{
 "cells": [
  {
   "cell_type": "code",
   "execution_count": 1,
   "metadata": {},
   "outputs": [],
   "source": [
    "# importing libraries\n",
    "from k_fold import *\n",
    "from splitData import *\n",
    "from algos.polynomial_regression import *"
   ]
  },
  {
   "cell_type": "code",
   "execution_count": 2,
   "metadata": {},
   "outputs": [],
   "source": [
    "# data extraction\n",
    "data = []\n",
    "with open('temp_pre.csv', mode='r') as csv_file:\n",
    "    csv_reader = csv.DictReader(csv_file)\n",
    "    for row in csv_reader:\n",
    "        data.append([int(row[\"temperature\"]), float(row[\"pressure\"])])"
   ]
  },
  {
   "cell_type": "code",
   "execution_count": 3,
   "metadata": {},
   "outputs": [
    {
     "name": "stdout",
     "output_type": "stream",
     "text": [
      "training set:\n",
      " [[0.00e+00 2.00e-04]\n",
      " [2.00e+01 1.20e-03]\n",
      " [4.00e+01 6.00e-03]\n",
      " [6.00e+01 3.00e-02]\n",
      " [1.00e+02 2.70e-01]\n",
      " [1.20e+02 7.50e-01]\n",
      " [1.40e+02 1.85e+00]\n",
      " [1.60e+02 4.20e+00]\n",
      " [1.80e+02 8.80e+00]\n",
      " [2.20e+02 3.21e+01]\n",
      " [2.60e+02 9.60e+01]\n",
      " [2.80e+02 1.57e+02]\n",
      " [3.00e+02 2.47e+02]\n",
      " [3.20e+02 3.76e+02]\n",
      " [3.40e+02 5.58e+02]]\n",
      "validation set\n",
      " [[8.00e+01 9.00e-02]\n",
      " [2.00e+02 1.73e+01]\n",
      " [2.40e+02 5.70e+01]]\n",
      "\n"
     ]
    }
   ],
   "source": [
    "# split data into 80% training and 20% validation sets\n",
    "train, valid = split(data)\n",
    "print(\"training set:\\n\",train)\n",
    "print(\"validation set\\n\", valid)\n",
    "print()"
   ]
  },
  {
   "cell_type": "code",
   "execution_count": 4,
   "metadata": {},
   "outputs": [
    {
     "name": "stdout",
     "output_type": "stream",
     "text": [
      "train_x:\n",
      " [[  0.]\n",
      " [ 20.]\n",
      " [ 40.]\n",
      " [ 60.]\n",
      " [100.]\n",
      " [120.]\n",
      " [140.]\n",
      " [160.]\n",
      " [180.]\n",
      " [220.]\n",
      " [260.]\n",
      " [280.]\n",
      " [300.]\n",
      " [320.]\n",
      " [340.]]\n",
      "train_y:\n",
      " [2.00e-04 1.20e-03 6.00e-03 3.00e-02 2.70e-01 7.50e-01 1.85e+00 4.20e+00\n",
      " 8.80e+00 3.21e+01 9.60e+01 1.57e+02 2.47e+02 3.76e+02 5.58e+02]\n",
      "val_x:\n",
      " [[ 80.]\n",
      " [200.]\n",
      " [240.]]\n",
      "val_y:\n",
      " [ 0.09 17.3  57.  ]\n"
     ]
    }
   ],
   "source": [
    "train, valid = np.asarray(train), np.asarray(valid)\n",
    "train_x = train[:,:-1] # extract x from train\n",
    "train_y = train[:,-1] # extract y from train\n",
    "val_x = valid[:,:-1] # extract x from validation\n",
    "val_y = valid[:,-1] # extract y from validation\n",
    "\n",
    "print(\"train_x:\\n\", train_x)\n",
    "print(\"train_y:\\n\", train_y)\n",
    "print(\"val_x:\\n\", val_x)\n",
    "print(\"val_y:\\n\", val_y)\n"
   ]
  },
  {
   "cell_type": "code",
   "execution_count": 22,
   "metadata": {},
   "outputs": [
    {
     "name": "stdout",
     "output_type": "stream",
     "text": [
      "FINAL RESULTS:\n",
      "optimal weight vector:  [-63.79616222   0.75749534] \t| empirical loss:  4510.013838\n"
     ]
    }
   ],
   "source": [
    "w0, ls = PolynomialRegression(train_x, train_y, 1) # linear regression with polynomial mapping of degree 1\n",
    "print(\"FINAL RESULTS:\")\n",
    "print(\"optimal weight vector: \", w0, \"\\t| empirical loss: \", \"{0:.6f}\".format(ls))"
   ]
  },
  {
   "cell_type": "code",
   "execution_count": 23,
   "metadata": {},
   "outputs": [
    {
     "name": "stdout",
     "output_type": "stream",
     "text": [
      "[[  1. 340.]\n",
      " [  1. 300.]\n",
      " [  1. 240.]] [558. 247.  57.] [-63.79616222   0.75749534]\n"
     ]
    },
    {
     "ename": "TypeError",
     "evalue": "'numpy.float64' object is not callable",
     "output_type": "error",
     "traceback": [
      "\u001b[1;31m---------------------------------------------------------------------------\u001b[0m",
      "\u001b[1;31mTypeError\u001b[0m                                 Traceback (most recent call last)",
      "\u001b[1;32mc:\\Users\\HP\\Desktop\\workspace\\ML-from-scratch-with-Python\\LAB6\\main.ipynb Cell 6\u001b[0m in \u001b[0;36m<cell line: 4>\u001b[1;34m()\u001b[0m\n\u001b[0;32m      <a href='vscode-notebook-cell:/c%3A/Users/HP/Desktop/workspace/ML-from-scratch-with-Python/LAB6/main.ipynb#W5sZmlsZQ%3D%3D?line=1'>2</a>\u001b[0m val_x_1 \u001b[39m=\u001b[39m np\u001b[39m.\u001b[39marray([psy(x,\u001b[39m1\u001b[39m) \u001b[39mfor\u001b[39;00m x \u001b[39min\u001b[39;00m val_x])\n\u001b[0;32m      <a href='vscode-notebook-cell:/c%3A/Users/HP/Desktop/workspace/ML-from-scratch-with-Python/LAB6/main.ipynb#W5sZmlsZQ%3D%3D?line=2'>3</a>\u001b[0m \u001b[39mprint\u001b[39m(val_x_1, val_y, w0)\n\u001b[1;32m----> <a href='vscode-notebook-cell:/c%3A/Users/HP/Desktop/workspace/ML-from-scratch-with-Python/LAB6/main.ipynb#W5sZmlsZQ%3D%3D?line=3'>4</a>\u001b[0m los \u001b[39m=\u001b[39m loss(val_x_1,val_y,w0)\n\u001b[0;32m      <a href='vscode-notebook-cell:/c%3A/Users/HP/Desktop/workspace/ML-from-scratch-with-Python/LAB6/main.ipynb#W5sZmlsZQ%3D%3D?line=4'>5</a>\u001b[0m \u001b[39mprint\u001b[39m(los)\n",
      "\u001b[1;31mTypeError\u001b[0m: 'numpy.float64' object is not callable"
     ]
    }
   ],
   "source": [
    "# using the loss function to calculate the error\n",
    "val_x_1 = np.array([psy(x,1) for x in val_x])\n",
    "print(val_x_1, val_y, w0)\n",
    "los = loss(val_x_1,val_y,w0)\n",
    "print(los)"
   ]
  },
  {
   "cell_type": "code",
   "execution_count": 7,
   "metadata": {},
   "outputs": [
    {
     "name": "stdout",
     "output_type": "stream",
     "text": [
      "FINAL RESULTS:\n",
      "optimal weight vector:  [ 7.63839851e+01 -2.19096063e+00  9.64027706e-03] \t| empirical loss:  2577.535666\n"
     ]
    }
   ],
   "source": [
    "w0, ls = PolynomialRegression(train_x, train_y, 2) # linear regression with polynomial mapping of degree 1\n",
    "print(\"FINAL RESULTS:\")\n",
    "print(\"optimal weight vector: \", w0, \"\\t| empirical loss: \", \"{0:.6f}\".format(ls))"
   ]
  },
  {
   "cell_type": "code",
   "execution_count": 8,
   "metadata": {},
   "outputs": [
    {
     "name": "stdout",
     "output_type": "stream",
     "text": [
      "1071.4625297506598\n"
     ]
    }
   ],
   "source": [
    "# using the loss function to calculate the error\n",
    "val_x_2 = np.array([psy(x,2) for x in val_x])\n",
    "loss = loss(val_x_2, val_y, w0)\n",
    "print(loss)"
   ]
  },
  {
   "cell_type": "code",
   "execution_count": 5,
   "metadata": {},
   "outputs": [
    {
     "name": "stdout",
     "output_type": "stream",
     "text": [
      "FINAL RESULTS:\n",
      "optimal weight vector:  [ 2.50864379e-02  1.15434814e+00 -1.57736214e-02  4.97714309e-05] \t| empirical loss:  332.652172\n"
     ]
    }
   ],
   "source": [
    "w0, ls = PolynomialRegression(train_x, train_y, 3) # linear regression with polynomial mapping of degree 1\n",
    "print(\"FINAL RESULTS:\")\n",
    "print(\"optimal weight vector: \", w0, \"\\t| empirical loss: \", \"{0:.6f}\".format(ls))"
   ]
  },
  {
   "cell_type": "code",
   "execution_count": 8,
   "metadata": {},
   "outputs": [
    {
     "name": "stdout",
     "output_type": "stream",
     "text": [
      "[[1.0000e+00 8.0000e+01 6.4000e+03 5.1200e+05]\n",
      " [1.0000e+00 2.0000e+02 4.0000e+04 8.0000e+06]\n",
      " [1.0000e+00 2.4000e+02 5.7600e+04 1.3824e+07]]\n"
     ]
    },
    {
     "ename": "TypeError",
     "evalue": "'numpy.float64' object is not callable",
     "output_type": "error",
     "traceback": [
      "\u001b[1;31m---------------------------------------------------------------------------\u001b[0m",
      "\u001b[1;31mTypeError\u001b[0m                                 Traceback (most recent call last)",
      "\u001b[1;32mc:\\Users\\HP\\Desktop\\workspace\\ML-from-scratch-with-Python\\LAB6\\main.ipynb Cell 10\u001b[0m in \u001b[0;36m<cell line: 4>\u001b[1;34m()\u001b[0m\n\u001b[0;32m      <a href='vscode-notebook-cell:/c%3A/Users/HP/Desktop/workspace/ML-from-scratch-with-Python/LAB6/main.ipynb#X13sZmlsZQ%3D%3D?line=1'>2</a>\u001b[0m val_x_3 \u001b[39m=\u001b[39m np\u001b[39m.\u001b[39marray([psy(x,\u001b[39m3\u001b[39m) \u001b[39mfor\u001b[39;00m x \u001b[39min\u001b[39;00m val_x])\n\u001b[0;32m      <a href='vscode-notebook-cell:/c%3A/Users/HP/Desktop/workspace/ML-from-scratch-with-Python/LAB6/main.ipynb#X13sZmlsZQ%3D%3D?line=2'>3</a>\u001b[0m \u001b[39mprint\u001b[39m(val_x_3)\n\u001b[1;32m----> <a href='vscode-notebook-cell:/c%3A/Users/HP/Desktop/workspace/ML-from-scratch-with-Python/LAB6/main.ipynb#X13sZmlsZQ%3D%3D?line=3'>4</a>\u001b[0m loss \u001b[39m=\u001b[39m loss(val_x_3, val_y, w0)\n\u001b[0;32m      <a href='vscode-notebook-cell:/c%3A/Users/HP/Desktop/workspace/ML-from-scratch-with-Python/LAB6/main.ipynb#X13sZmlsZQ%3D%3D?line=4'>5</a>\u001b[0m \u001b[39mprint\u001b[39m(loss)\n",
      "\u001b[1;31mTypeError\u001b[0m: 'numpy.float64' object is not callable"
     ]
    }
   ],
   "source": [
    "# using the loss function to calculate the error\n",
    "val_x_3 = np.array([psy(x,3) for x in val_x])\n",
    "print(val_x_3)\n",
    "loss = loss(val_x_3, val_y, w0)\n",
    "print(loss)"
   ]
  }
 ],
 "metadata": {
  "kernelspec": {
   "display_name": "Python 3",
   "language": "python",
   "name": "python3"
  },
  "language_info": {
   "codemirror_mode": {
    "name": "ipython",
    "version": 3
   },
   "file_extension": ".py",
   "mimetype": "text/x-python",
   "name": "python",
   "nbconvert_exporter": "python",
   "pygments_lexer": "ipython3",
   "version": "3.8.0"
  },
  "orig_nbformat": 4,
  "vscode": {
   "interpreter": {
    "hash": "b337b16e1f284c9fe7de692799556d56c1809887abe3f5a49ffeb9e7df151cfb"
   }
  }
 },
 "nbformat": 4,
 "nbformat_minor": 2
}
