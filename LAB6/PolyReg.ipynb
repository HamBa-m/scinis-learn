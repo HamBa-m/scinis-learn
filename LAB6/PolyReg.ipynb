{
 "cells": [
  {
   "cell_type": "code",
   "execution_count": 65,
   "metadata": {},
   "outputs": [],
   "source": [
    "# importing libraries\n",
    "from k_fold import *\n",
    "from splitData import *\n",
    "from algos.polynomial_regression import *"
   ]
  },
  {
   "cell_type": "code",
   "execution_count": 66,
   "metadata": {},
   "outputs": [],
   "source": [
    "# data extraction\n",
    "data = []\n",
    "with open('temp_pre.csv', mode='r') as csv_file:\n",
    "    csv_reader = csv.DictReader(csv_file)\n",
    "    for row in csv_reader:\n",
    "        data.append([int(row[\"temperature\"]), float(row[\"pressure\"])])"
   ]
  },
  {
   "cell_type": "code",
   "execution_count": 67,
   "metadata": {},
   "outputs": [
    {
     "name": "stdout",
     "output_type": "stream",
     "text": [
      "[[-1.63835604 -0.56760068]\n",
      " [-1.44560827 -0.56759411]\n",
      " [-1.2528605  -0.5675626 ]\n",
      " [-1.06011273 -0.56740506]\n",
      " [-0.86736496 -0.56701119]\n",
      " [-0.67461719 -0.5658296 ]\n",
      " [-0.48186942 -0.56267868]\n",
      " [-0.28912165 -0.55545782]\n",
      " [-0.09637388 -0.54003145]\n",
      " [ 0.09637388 -0.50983515]\n",
      " [ 0.28912165 -0.45403764]\n",
      " [ 0.48186942 -0.35688432]\n",
      " [ 0.67461719 -0.19343043]\n",
      " [ 0.86736496  0.06258169]\n",
      " [ 1.06011273  0.4630109 ]\n",
      " [ 1.2528605   1.0538081 ]\n",
      " [ 1.44560827  1.90061742]\n",
      " [ 1.63835604  3.09534064]]\n"
     ]
    }
   ],
   "source": [
    "# data normalization\n",
    "# Z-value transformer\n",
    "def Zvalue(x,mean,std):\n",
    "    return (x - mean)/std\n",
    "\n",
    "def dataNormalize(data):\n",
    "    X = np.asarray(data)\n",
    "    mean, std = [], []\n",
    "    for i in range(X.shape[1]):\n",
    "        mean.append(np.mean(X[:,i]))\n",
    "        std.append(np.std(X[:,i]))\n",
    "    for i in range(X.shape[0]):\n",
    "        for j in range(0,X.shape[1]):\n",
    "            X[i][j] = Zvalue(X[i][j],mean[j],std[j])\n",
    "    return X\n",
    "\n",
    "# data normalization\n",
    "data = dataNormalize(data)\n",
    "print(data)"
   ]
  },
  {
   "cell_type": "code",
   "execution_count": 68,
   "metadata": {},
   "outputs": [
    {
     "name": "stdout",
     "output_type": "stream",
     "text": [
      "training set:\n",
      " [[-1.63835604 -0.56760068]\n",
      " [-1.2528605  -0.5675626 ]\n",
      " [-1.06011273 -0.56740506]\n",
      " [-0.86736496 -0.56701119]\n",
      " [-0.67461719 -0.5658296 ]\n",
      " [-0.48186942 -0.56267868]\n",
      " [-0.28912165 -0.55545782]\n",
      " [ 0.09637388 -0.50983515]\n",
      " [ 0.28912165 -0.45403764]\n",
      " [ 0.48186942 -0.35688432]\n",
      " [ 0.67461719 -0.19343043]\n",
      " [ 1.06011273  0.4630109 ]\n",
      " [ 1.2528605   1.0538081 ]\n",
      " [ 1.44560827  1.90061742]\n",
      " [ 1.63835604  3.09534064]]\n",
      "validation set\n",
      " [[ 0.86736496  0.06258169]\n",
      " [-1.44560827 -0.56759411]\n",
      " [-0.09637388 -0.54003145]]\n",
      "\n"
     ]
    }
   ],
   "source": [
    "# split data into 80% training and 20% validation sets\n",
    "train, valid = split(data)\n",
    "print(\"training set:\\n\",train)\n",
    "print(\"validation set\\n\", valid)\n",
    "print()"
   ]
  },
  {
   "cell_type": "code",
   "execution_count": 69,
   "metadata": {},
   "outputs": [
    {
     "name": "stdout",
     "output_type": "stream",
     "text": [
      "train_x:\n",
      " [[-1.63835604]\n",
      " [-1.2528605 ]\n",
      " [-1.06011273]\n",
      " [-0.86736496]\n",
      " [-0.67461719]\n",
      " [-0.48186942]\n",
      " [-0.28912165]\n",
      " [ 0.09637388]\n",
      " [ 0.28912165]\n",
      " [ 0.48186942]\n",
      " [ 0.67461719]\n",
      " [ 1.06011273]\n",
      " [ 1.2528605 ]\n",
      " [ 1.44560827]\n",
      " [ 1.63835604]]\n",
      "train_y:\n",
      " [-0.56760068 -0.5675626  -0.56740506 -0.56701119 -0.5658296  -0.56267868\n",
      " -0.55545782 -0.50983515 -0.45403764 -0.35688432 -0.19343043  0.4630109\n",
      "  1.0538081   1.90061742  3.09534064]\n",
      "val_x:\n",
      " [[ 0.86736496]\n",
      " [-1.44560827]\n",
      " [-0.09637388]]\n",
      "val_y:\n",
      " [ 0.06258169 -0.56759411 -0.54003145]\n"
     ]
    }
   ],
   "source": [
    "train, valid = np.asarray(train), np.asarray(valid)\n",
    "train_x = train[:,:-1] # extract x from train\n",
    "train_y = train[:,-1] # extract y from train\n",
    "val_x = valid[:,:-1] # extract x from validation\n",
    "val_y = valid[:,-1] # extract y from validation\n",
    "\n",
    "print(\"train_x:\\n\", train_x)\n",
    "print(\"train_y:\\n\", train_y)\n",
    "print(\"val_x:\\n\", val_x)\n",
    "print(\"val_y:\\n\", val_y)\n"
   ]
  },
  {
   "cell_type": "code",
   "execution_count": 70,
   "metadata": {},
   "outputs": [
    {
     "name": "stdout",
     "output_type": "stream",
     "text": [
      "FINAL RESULTS:\n",
      "optimal weight vector:  [0.03204423 0.83659361] \t| empirical loss:  0.448558\n"
     ]
    }
   ],
   "source": [
    "w0, ls = PolynomialRegression(train_x, train_y, 1) # linear regression with polynomial mapping of degree 1\n",
    "print(\"FINAL RESULTS:\")\n",
    "print(\"optimal weight vector: \", w0, \"\\t| empirical loss: \", \"{0:.6f}\".format(ls))"
   ]
  },
  {
   "cell_type": "code",
   "execution_count": 71,
   "metadata": {},
   "outputs": [
    {
     "name": "stdout",
     "output_type": "stream",
     "text": [
      "[[ 1.          0.86736496]\n",
      " [ 1.         -1.44560827]\n",
      " [ 1.         -0.09637388]] [ 0.06258169 -0.56759411 -0.54003145] [0.03204423 0.83659361]\n",
      "0.36549079937757073\n"
     ]
    }
   ],
   "source": [
    "# using the loss function to calculate the error\n",
    "val_x_1 = np.array([psy(x,1) for x in val_x])\n",
    "print(val_x_1, val_y, w0)\n",
    "los = loss(val_x_1,val_y,w0)\n",
    "print(los)"
   ]
  },
  {
   "cell_type": "code",
   "execution_count": 72,
   "metadata": {},
   "outputs": [
    {
     "name": "stdout",
     "output_type": "stream",
     "text": [
      "FINAL RESULTS:\n",
      "optimal weight vector:  [-0.63475672  0.76250238  0.6635592 ] \t| empirical loss:  0.100835\n"
     ]
    }
   ],
   "source": [
    "w0, ls = PolynomialRegression(train_x, train_y, 2) # linear regression with polynomial mapping of degree 1\n",
    "print(\"FINAL RESULTS:\")\n",
    "print(\"optimal weight vector: \", w0, \"\\t| empirical loss: \", \"{0:.6f}\".format(ls))"
   ]
  },
  {
   "cell_type": "code",
   "execution_count": 73,
   "metadata": {},
   "outputs": [
    {
     "name": "stdout",
     "output_type": "stream",
     "text": [
      "0.0960163370382746\n"
     ]
    }
   ],
   "source": [
    "# using the loss function to calculate the error\n",
    "val_x_2 = np.array([psy(x,2) for x in val_x])\n",
    "los = loss(val_x_2, val_y, w0)\n",
    "print(los)"
   ]
  },
  {
   "cell_type": "code",
   "execution_count": 74,
   "metadata": {},
   "outputs": [
    {
     "name": "stdout",
     "output_type": "stream",
     "text": [
      "FINAL RESULTS:\n",
      "optimal weight vector:  [-0.65111133  0.09332694  0.65131723  0.3723382 ] \t| empirical loss:  0.012099\n"
     ]
    }
   ],
   "source": [
    "w0, ls = PolynomialRegression(train_x, train_y, 3) # linear regression with polynomial mapping of degree 1\n",
    "print(\"FINAL RESULTS:\")\n",
    "print(\"optimal weight vector: \", w0, \"\\t| empirical loss: \", \"{0:.6f}\".format(ls))"
   ]
  },
  {
   "cell_type": "code",
   "execution_count": 75,
   "metadata": {},
   "outputs": [
    {
     "name": "stdout",
     "output_type": "stream",
     "text": [
      "[[ 1.00000000e+00  8.67364964e-01  7.52321981e-01  6.52537729e-01]\n",
      " [ 1.00000000e+00 -1.44560827e+00  2.08978328e+00 -3.02100800e+00]\n",
      " [ 1.00000000e+00 -9.63738849e-02  9.28792570e-03 -8.95113482e-04]]\n",
      "0.007813437586428135\n"
     ]
    }
   ],
   "source": [
    "# using the loss function to calculate the error\n",
    "val_x_3 = np.array([psy(x,3) for x in val_x])\n",
    "print(val_x_3)\n",
    "los = loss(val_x_3, val_y, w0)\n",
    "print(los)"
   ]
  },
  {
   "attachments": {},
   "cell_type": "markdown",
   "metadata": {},
   "source": [
    "# Cross-validation with k-fold"
   ]
  },
  {
   "cell_type": "code",
   "execution_count": 76,
   "metadata": {},
   "outputs": [
    {
     "name": "stdout",
     "output_type": "stream",
     "text": [
      "please choose a k value among the following:\n",
      "2 3 6 9 18 \n",
      "[[ 0.09637388 -0.50983515]\n",
      " [ 0.28912165 -0.45403764]]\n",
      "[[-1.44560827 -0.56759411]\n",
      " [-1.2528605  -0.5675626 ]]\n",
      "[[-0.67461719 -0.5658296 ]\n",
      " [ 0.67461719 -0.19343043]]\n",
      "[[1.44560827 1.90061742]\n",
      " [1.63835604 3.09534064]]\n",
      "[[ 1.06011273  0.4630109 ]\n",
      " [-1.06011273 -0.56740506]]\n",
      "[[ 0.48186942 -0.35688432]\n",
      " [-0.86736496 -0.56701119]]\n",
      "[[ 0.86736496  0.06258169]\n",
      " [-0.09637388 -0.54003145]]\n",
      "[[-0.48186942 -0.56267868]\n",
      " [-0.28912165 -0.55545782]]\n",
      "[[-1.63835604 -0.56760068]\n",
      " [ 1.2528605   1.0538081 ]]\n"
     ]
    }
   ],
   "source": [
    "# cross-validation using k-folds\n",
    "part = k_fold(data)\n",
    "for e in part:\n",
    "    print(e)"
   ]
  },
  {
   "cell_type": "code",
   "execution_count": 77,
   "metadata": {},
   "outputs": [
    {
     "name": "stdout",
     "output_type": "stream",
     "text": [
      "train_x:\n",
      " [[ 0.09637388]\n",
      " [ 0.28912165]\n",
      " [-1.44560827]\n",
      " [-1.2528605 ]\n",
      " [-0.67461719]\n",
      " [ 0.67461719]\n",
      " [ 1.44560827]\n",
      " [ 1.63835604]\n",
      " [ 1.06011273]\n",
      " [-1.06011273]\n",
      " [ 0.48186942]\n",
      " [-0.86736496]\n",
      " [ 0.86736496]\n",
      " [-0.09637388]\n",
      " [-0.48186942]\n",
      " [-0.28912165]]\n",
      "train_y:\n",
      " [[ 0.09637388]\n",
      " [ 0.28912165]\n",
      " [-1.44560827]\n",
      " [-1.2528605 ]\n",
      " [-0.67461719]\n",
      " [ 0.67461719]\n",
      " [ 1.44560827]\n",
      " [ 1.63835604]\n",
      " [ 1.06011273]\n",
      " [-1.06011273]\n",
      " [ 0.48186942]\n",
      " [-0.86736496]\n",
      " [ 0.86736496]\n",
      " [-0.09637388]\n",
      " [-0.48186942]\n",
      " [-0.28912165]]\n",
      "val_x:\n",
      " [[-1.63835604]\n",
      " [ 1.2528605 ]]\n",
      "val_y:\n",
      " [-0.56760068  1.0538081 ]\n"
     ]
    }
   ],
   "source": [
    "part = np.asarray(part)\n",
    "\n",
    "train_x = []\n",
    "for i in range(part.shape[0] - 1):\n",
    "    for j in range (part.shape[1]):\n",
    "        train_x.append(part[i][j][:-1])\n",
    "train_y = []\n",
    "for i in range(part.shape[0] - 1):\n",
    "    for j in range (part.shape[1]):\n",
    "        train_y.append(part[i][j][:-1])\n",
    "\n",
    "train_x = np.asarray(train_x)\n",
    "train_y = np.asarray(train_y)\n",
    "\n",
    "val_x = []\n",
    "val_y = []\n",
    "for i in range(part.shape[1]):\n",
    "    val_x.append(part[-1][i][:-1])\n",
    "    val_y.append(part[-1][i][-1])\n",
    "\n",
    "val_x = np.asarray(val_x)\n",
    "val_y = np.asarray(val_y)\n",
    "\n",
    "print(\"train_x:\\n\", train_x)\n",
    "print(\"train_y:\\n\", train_y)\n",
    "print(\"val_x:\\n\", val_x)\n",
    "print(\"val_y:\\n\", val_y)"
   ]
  },
  {
   "cell_type": "code",
   "execution_count": 78,
   "metadata": {},
   "outputs": [
    {
     "name": "stdout",
     "output_type": "stream",
     "text": [
      "FINAL RESULTS:\n",
      "optimal weight vector:  [[-3.81639165e-17]\n",
      " [ 1.00000000e+00]] \t| empirical loss:  0.000000\n"
     ]
    }
   ],
   "source": [
    "w0, ls = PolynomialRegression(train_x, train_y, 1) # linear regression with polynomial mapping of degree 1\n",
    "print(\"FINAL RESULTS:\")\n",
    "print(\"optimal weight vector: \", w0, \"\\t| empirical loss: \", \"{0:.6f}\".format(ls))"
   ]
  },
  {
   "cell_type": "code",
   "execution_count": 79,
   "metadata": {},
   "outputs": [
    {
     "name": "stdout",
     "output_type": "stream",
     "text": [
      "[[ 1.         -1.63835604]\n",
      " [ 1.          1.2528605 ]]\n",
      "0.5930694585226541\n"
     ]
    }
   ],
   "source": [
    "# using the loss function to calculate the error\n",
    "val_x_1 = np.asarray([psy(x,1) for x in val_x])\n",
    "print(val_x_1)\n",
    "l = loss(val_x_1, val_y, w0)\n",
    "print(l)"
   ]
  },
  {
   "cell_type": "code",
   "execution_count": 80,
   "metadata": {},
   "outputs": [
    {
     "name": "stdout",
     "output_type": "stream",
     "text": [
      "FINAL RESULTS:\n",
      "optimal weight vector:  [[-4.16333634e-16]\n",
      " [ 1.00000000e+00]\n",
      " [ 2.49800181e-16]] \t| empirical loss:  0.000000\n"
     ]
    }
   ],
   "source": [
    "w0, ls = PolynomialRegression(train_x, train_y, 2) # linear regression with polynomial mapping of degree 2\n",
    "print(\"FINAL RESULTS:\")\n",
    "print(\"optimal weight vector: \", w0, \"\\t| empirical loss: \", \"{0:.6f}\".format(ls))"
   ]
  },
  {
   "cell_type": "code",
   "execution_count": 81,
   "metadata": {},
   "outputs": [
    {
     "name": "stdout",
     "output_type": "stream",
     "text": [
      "0.5930694585226534\n"
     ]
    }
   ],
   "source": [
    "# using the loss function to calculate the error\n",
    "val_x_2 = np.asarray([psy(x,2) for x in val_x])\n",
    "los = loss(val_x_2, val_y, w0)\n",
    "print(los)"
   ]
  },
  {
   "cell_type": "code",
   "execution_count": 82,
   "metadata": {},
   "outputs": [
    {
     "name": "stdout",
     "output_type": "stream",
     "text": [
      "FINAL RESULTS:\n",
      "optimal weight vector:  [[ 2.24820162e-15]\n",
      " [ 1.00000000e+00]\n",
      " [-9.99200722e-16]\n",
      " [-1.80411242e-15]] \t| empirical loss:  0.000000\n"
     ]
    }
   ],
   "source": [
    "w0, ls = PolynomialRegression(train_x, train_y, 3) # linear regression with polynomial mapping of degree 2\n",
    "print(\"FINAL RESULTS:\")\n",
    "print(\"optimal weight vector: \", w0, \"\\t| empirical loss: \", \"{0:.6f}\".format(ls))"
   ]
  },
  {
   "cell_type": "code",
   "execution_count": 83,
   "metadata": {},
   "outputs": [
    {
     "name": "stdout",
     "output_type": "stream",
     "text": [
      "0.5930694585226535\n"
     ]
    }
   ],
   "source": [
    "# using the loss function to calculate the error\n",
    "val_x_3 = np.asarray([psy(x,3) for x in val_x])\n",
    "los = loss(val_x_3, val_y, w0)\n",
    "print(los)"
   ]
  },
  {
   "cell_type": "code",
   "execution_count": 84,
   "metadata": {},
   "outputs": [
    {
     "name": "stdout",
     "output_type": "stream",
     "text": [
      "FINAL RESULTS:\n",
      "optimal weight vector:  [[ 6.10622664e-16]\n",
      " [ 1.00000000e+00]\n",
      " [-4.21884749e-15]\n",
      " [ 2.27595720e-15]\n",
      " [ 1.11022302e-15]] \t| empirical loss:  0.000000\n"
     ]
    }
   ],
   "source": [
    "w0, ls = PolynomialRegression(train_x, train_y, 4) # linear regression with polynomial mapping of degree 2\n",
    "print(\"FINAL RESULTS:\")\n",
    "print(\"optimal weight vector: \", w0, \"\\t| empirical loss: \", \"{0:.6f}\".format(ls))"
   ]
  },
  {
   "cell_type": "code",
   "execution_count": 85,
   "metadata": {},
   "outputs": [
    {
     "name": "stdout",
     "output_type": "stream",
     "text": [
      "0.593069458522665\n"
     ]
    }
   ],
   "source": [
    "# using the loss function to calculate the error\n",
    "val_x_4 = np.asarray([psy(x,4) for x in val_x])\n",
    "los = loss(val_x_4, val_y, w0)\n",
    "print(los)"
   ]
  }
 ],
 "metadata": {
  "kernelspec": {
   "display_name": "Python 3",
   "language": "python",
   "name": "python3"
  },
  "language_info": {
   "codemirror_mode": {
    "name": "ipython",
    "version": 3
   },
   "file_extension": ".py",
   "mimetype": "text/x-python",
   "name": "python",
   "nbconvert_exporter": "python",
   "pygments_lexer": "ipython3",
   "version": "3.8.0 (tags/v3.8.0:fa919fd, Oct 14 2019, 19:37:50) [MSC v.1916 64 bit (AMD64)]"
  },
  "orig_nbformat": 4,
  "vscode": {
   "interpreter": {
    "hash": "b337b16e1f284c9fe7de692799556d56c1809887abe3f5a49ffeb9e7df151cfb"
   }
  }
 },
 "nbformat": 4,
 "nbformat_minor": 2
}
